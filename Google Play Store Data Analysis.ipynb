{
 "cells": [
  {
   "cell_type": "code",
   "execution_count": 0,
   "metadata": {
    "application/vnd.databricks.v1+cell": {
     "cellMetadata": {
      "byteLimit": 2048000,
      "rowLimit": 10000
     },
     "inputWidgets": {},
     "nuid": "04ce6396-ffae-4c07-8343-0207bb163fda",
     "showTitle": false,
     "title": ""
    }
   },
   "outputs": [],
   "source": [
    "from pyspark.sql.types import StructType,StructField,StringType,IntegerType\n",
    "from pyspark.sql.functions import *"
   ]
  },
  {
   "cell_type": "code",
   "execution_count": 0,
   "metadata": {
    "application/vnd.databricks.v1+cell": {
     "cellMetadata": {
      "byteLimit": 2048000,
      "rowLimit": 10000
     },
     "inputWidgets": {},
     "nuid": "71643518-6694-4b19-b46d-57468157b88d",
     "showTitle": false,
     "title": ""
    }
   },
   "outputs": [
    {
     "output_type": "stream",
     "name": "stdout",
     "output_type": "stream",
     "text": [
      "+-----+--------+------+-------+----+--------+----+-----+--------------+------+------------+-----------+-----------+\n|  App|Category|Rating|Reviews|Size|Installs|Type|Price|Content Rating|Genres|Last Updated|Current Ver|Android Ver|\n+-----+--------+------+-------+----+--------+----+-----+--------------+------+------------+-----------+-----------+\n|Ph...|   AR...|   4.1|    159| 19M|   10...|Free|    0|         Ev...| Ar...|       Ja...|      1.0.0|      4....|\n|Co...|   AR...|   3.9|    967| 14M|   50...|Free|    0|         Ev...| Ar...|       Ja...|      2.0.0|      4....|\n|U ...|   AR...|   4.7|  87510|8.7M|   5,...|Free|    0|         Ev...| Ar...|       Au...|      1.2.4|      4....|\n|Sk...|   AR...|   4.5|  21...| 25M|   50...|Free|    0|          Teen| Ar...|       Ju...|      Va...|      4....|\n|Pi...|   AR...|   4.3|    967|2.8M|   10...|Free|    0|         Ev...| Ar...|       Ju...|        1.1|      4....|\n+-----+--------+------+-------+----+--------+----+-----+--------------+------+------------+-----------+-----------+\nonly showing top 5 rows\n\n"
     ]
    }
   ],
   "source": [
    "df = spark.read.load('/FileStore/tables/googleplaystore.csv',format=\"csv\",sep=',',header=True,inferSchema=True,escape = '\"')\n",
    "df.show(5,5)"
   ]
  },
  {
   "cell_type": "code",
   "execution_count": 0,
   "metadata": {
    "application/vnd.databricks.v1+cell": {
     "cellMetadata": {
      "byteLimit": 2048000,
      "rowLimit": 10000
     },
     "inputWidgets": {},
     "nuid": "afd56fe5-5836-4149-83ad-fa3f2a75aa49",
     "showTitle": false,
     "title": ""
    }
   },
   "outputs": [
    {
     "output_type": "stream",
     "name": "stdout",
     "output_type": "stream",
     "text": [
      "Out[3]: 10841"
     ]
    }
   ],
   "source": [
    "df.count()"
   ]
  },
  {
   "cell_type": "code",
   "execution_count": 0,
   "metadata": {
    "application/vnd.databricks.v1+cell": {
     "cellMetadata": {
      "byteLimit": 2048000,
      "rowLimit": 10000
     },
     "inputWidgets": {},
     "nuid": "bf001dc5-989a-4df5-b9ec-a14ec77ab980",
     "showTitle": true,
     "title": "print schema"
    }
   },
   "outputs": [
    {
     "output_type": "stream",
     "name": "stdout",
     "output_type": "stream",
     "text": [
      "root\n |-- App: string (nullable = true)\n |-- Category: string (nullable = true)\n |-- Rating: double (nullable = true)\n |-- Reviews: string (nullable = true)\n |-- Size: string (nullable = true)\n |-- Installs: string (nullable = true)\n |-- Type: string (nullable = true)\n |-- Price: string (nullable = true)\n |-- Content Rating: string (nullable = true)\n |-- Genres: string (nullable = true)\n |-- Last Updated: string (nullable = true)\n |-- Current Ver: string (nullable = true)\n |-- Android Ver: string (nullable = true)\n\n"
     ]
    }
   ],
   "source": [
    "df.printSchema()"
   ]
  },
  {
   "cell_type": "code",
   "execution_count": 0,
   "metadata": {
    "application/vnd.databricks.v1+cell": {
     "cellMetadata": {
      "byteLimit": 2048000,
      "rowLimit": 10000
     },
     "inputWidgets": {},
     "nuid": "312abee7-f235-406d-88f1-6e204ddd23e9",
     "showTitle": false,
     "title": ""
    }
   },
   "outputs": [
    {
     "output_type": "stream",
     "name": "stdout",
     "output_type": "stream",
     "text": [
      "+---+--------+------+-------+----+--------+----+-----+--------------+------+------------+-----------+-----------+\n|App|Category|Rating|Reviews|Size|Installs|Type|Price|Content Rating|Genres|Last Updated|Current Ver|Android Ver|\n+---+--------+------+-------+----+--------+----+-----+--------------+------+------------+-----------+-----------+\n|  P|       A|     4|      1|   1|       1|   F|    0|             E|     A|           J|          1|          4|\n+---+--------+------+-------+----+--------+----+-----+--------------+------+------------+-----------+-----------+\nonly showing top 1 row\n\n"
     ]
    }
   ],
   "source": [
    "df.show(1,1)"
   ]
  },
  {
   "cell_type": "code",
   "execution_count": 0,
   "metadata": {
    "application/vnd.databricks.v1+cell": {
     "cellMetadata": {
      "byteLimit": 2048000,
      "rowLimit": 10000
     },
     "inputWidgets": {},
     "nuid": "2aedeed8-93b4-4bf1-b45a-306e76132f2d",
     "showTitle": false,
     "title": ""
    }
   },
   "outputs": [
    {
     "output_type": "stream",
     "name": "stdout",
     "output_type": "stream",
     "text": [
      "+--------------------+--------------+------+-------+--------+----+-----+------------+\n|                 App|      Category|Rating|Reviews|Installs|Type|Price|      Genres|\n+--------------------+--------------+------+-------+--------+----+-----+------------+\n|Photo Editor & Ca...|ART_AND_DESIGN|   4.1|    159| 10,000+|Free|    0|Art & Design|\n+--------------------+--------------+------+-------+--------+----+-----+------------+\nonly showing top 1 row\n\n"
     ]
    }
   ],
   "source": [
    "df = df.drop(\"Size\",\"Content Rating\",\"Last Updated\",\"Android Ver\",\"Current Ver\")\n",
    "df.show(1)"
   ]
  },
  {
   "cell_type": "code",
   "execution_count": 0,
   "metadata": {
    "application/vnd.databricks.v1+cell": {
     "cellMetadata": {
      "byteLimit": 2048000,
      "rowLimit": 10000
     },
     "inputWidgets": {},
     "nuid": "c47037b3-27ec-4cab-899d-5a56b0ad190f",
     "showTitle": false,
     "title": ""
    }
   },
   "outputs": [
    {
     "output_type": "stream",
     "name": "stdout",
     "output_type": "stream",
     "text": [
      "+--------------------+--------------+------+-------+--------+----+-----+------------+\n|                 App|      Category|Rating|Reviews|Installs|Type|Price|      Genres|\n+--------------------+--------------+------+-------+--------+----+-----+------------+\n|Photo Editor & Ca...|ART_AND_DESIGN|   4.1|    159|   10000|Free|    0|Art & Design|\n+--------------------+--------------+------+-------+--------+----+-----+------------+\nonly showing top 1 row\n\nroot\n |-- App: string (nullable = true)\n |-- Category: string (nullable = true)\n |-- Rating: double (nullable = true)\n |-- Reviews: integer (nullable = true)\n |-- Installs: integer (nullable = true)\n |-- Type: string (nullable = true)\n |-- Price: integer (nullable = true)\n |-- Genres: string (nullable = true)\n\n"
     ]
    }
   ],
   "source": [
    "from pyspark.sql.functions import col,regexp_replace\n",
    "df = df.withColumn(\"Reviews\",col(\"Reviews\").cast(IntegerType()))\\\n",
    "    .withColumn(\"Installs\",regexp_replace(col(\"Installs\"),\"[^0-9]\",\"\"))\\\n",
    "    .withColumn(\"Installs\",col(\"Installs\").cast(IntegerType()))\\\n",
    "    .withColumn(\"Price\",regexp_replace(col(\"Price\"),\"[$]\",\"\"))\\\n",
    "    .withColumn(\"Price\",col(\"Price\").cast(IntegerType()))\n",
    "df.show(1)\n",
    "df.printSchema()"
   ]
  },
  {
   "cell_type": "code",
   "execution_count": 0,
   "metadata": {
    "application/vnd.databricks.v1+cell": {
     "cellMetadata": {
      "byteLimit": 2048000,
      "rowLimit": 10000
     },
     "inputWidgets": {},
     "nuid": "da85701b-ed23-4d4b-ad89-5e43d2114abc",
     "showTitle": false,
     "title": ""
    }
   },
   "outputs": [],
   "source": [
    "#replace 0 with Null\n",
    "#df = df.replace(0,None,subset = ['Price'])\n",
    "#replace NAN with 0\n",
    "df = df.fillna(0,subset =['Rating'])\n"
   ]
  },
  {
   "cell_type": "code",
   "execution_count": 0,
   "metadata": {
    "application/vnd.databricks.v1+cell": {
     "cellMetadata": {
      "byteLimit": 2048000,
      "rowLimit": 10000
     },
     "inputWidgets": {},
     "nuid": "13b8178a-1dcb-4737-a10b-426318c63bce",
     "showTitle": false,
     "title": ""
    }
   },
   "outputs": [],
   "source": [
    "df.createOrReplaceTempView(\"apps\")"
   ]
  },
  {
   "cell_type": "code",
   "execution_count": 0,
   "metadata": {
    "application/vnd.databricks.v1+cell": {
     "cellMetadata": {
      "byteLimit": 2048000,
      "implicitDf": true,
      "rowLimit": 10000
     },
     "inputWidgets": {},
     "nuid": "704b9f3d-9f85-445c-b94f-7db123ab7ca5",
     "showTitle": false,
     "title": ""
    }
   },
   "outputs": [
    {
     "output_type": "display_data",
     "data": {
      "text/html": [
       "<style scoped>\n",
       "  .table-result-container {\n",
       "    max-height: 300px;\n",
       "    overflow: auto;\n",
       "  }\n",
       "  table, th, td {\n",
       "    border: 1px solid black;\n",
       "    border-collapse: collapse;\n",
       "  }\n",
       "  th, td {\n",
       "    padding: 5px;\n",
       "  }\n",
       "  th {\n",
       "    text-align: left;\n",
       "  }\n",
       "</style><div class='table-result-container'><table class='table-result'><thead style='background-color: white'><tr><th>App</th><th>Category</th><th>Rating</th><th>Reviews</th><th>Installs</th><th>Type</th><th>Price</th><th>Genres</th></tr></thead><tbody><tr><td>Photo Editor & Candy Camera & Grid & ScrapBook</td><td>ART_AND_DESIGN</td><td>4.1</td><td>159</td><td>10000</td><td>Free</td><td>0</td><td>Art & Design</td></tr></tbody></table></div>"
      ]
     },
     "metadata": {
      "application/vnd.databricks.v1+output": {
       "addedWidgets": {},
       "aggData": [],
       "aggError": "",
       "aggOverflow": false,
       "aggSchema": [],
       "aggSeriesLimitReached": false,
       "aggType": "",
       "arguments": {},
       "columnCustomDisplayInfos": {},
       "data": [
        [
         "Photo Editor & Candy Camera & Grid & ScrapBook",
         "ART_AND_DESIGN",
         4.1,
         159,
         10000,
         "Free",
         0,
         "Art & Design"
        ]
       ],
       "datasetInfos": [],
       "dbfsResultPath": null,
       "isJsonSchema": true,
       "metadata": {},
       "overflow": false,
       "plotOptions": {
        "customPlotOptions": {},
        "displayType": "table",
        "pivotAggregation": null,
        "pivotColumns": null,
        "xColumns": null,
        "yColumns": null
       },
       "removedWidgets": [],
       "schema": [
        {
         "metadata": "{}",
         "name": "App",
         "type": "\"string\""
        },
        {
         "metadata": "{}",
         "name": "Category",
         "type": "\"string\""
        },
        {
         "metadata": "{}",
         "name": "Rating",
         "type": "\"double\""
        },
        {
         "metadata": "{}",
         "name": "Reviews",
         "type": "\"integer\""
        },
        {
         "metadata": "{}",
         "name": "Installs",
         "type": "\"integer\""
        },
        {
         "metadata": "{}",
         "name": "Type",
         "type": "\"string\""
        },
        {
         "metadata": "{}",
         "name": "Price",
         "type": "\"integer\""
        },
        {
         "metadata": "{}",
         "name": "Genres",
         "type": "\"string\""
        }
       ],
       "type": "table"
      }
     },
     "output_type": "display_data"
    }
   ],
   "source": [
    "%sql\n",
    "select * from apps limit 1"
   ]
  },
  {
   "cell_type": "code",
   "execution_count": 0,
   "metadata": {
    "application/vnd.databricks.v1+cell": {
     "cellMetadata": {
      "byteLimit": 2048000,
      "implicitDf": true,
      "rowLimit": 10000
     },
     "inputWidgets": {},
     "nuid": "6a3d4a17-af4a-4b00-b244-22bdc55afcad",
     "showTitle": true,
     "title": "Find out top 10 reviews given to apps"
    }
   },
   "outputs": [
    {
     "output_type": "display_data",
     "data": {
      "text/html": [
       "<style scoped>\n",
       "  .table-result-container {\n",
       "    max-height: 300px;\n",
       "    overflow: auto;\n",
       "  }\n",
       "  table, th, td {\n",
       "    border: 1px solid black;\n",
       "    border-collapse: collapse;\n",
       "  }\n",
       "  th, td {\n",
       "    padding: 5px;\n",
       "  }\n",
       "  th {\n",
       "    text-align: left;\n",
       "  }\n",
       "</style><div class='table-result-container'><table class='table-result'><thead style='background-color: white'><tr><th>App</th><th>Reviews</th></tr></thead><tbody><tr><td>Instagram</td><td>266241989</td></tr><tr><td>WhatsApp Messenger</td><td>207348304</td></tr><tr><td>Clash of Clans</td><td>179558781</td></tr><tr><td>Messenger – Text and Video Chat for Free</td><td>169932272</td></tr><tr><td>Subway Surfers</td><td>166331958</td></tr><tr><td>Candy Crush Saga</td><td>156993136</td></tr><tr><td>Facebook</td><td>156286514</td></tr><tr><td>8 Ball Pool</td><td>99386198</td></tr><tr><td>Clash Royale</td><td>92530298</td></tr><tr><td>Snapchat</td><td>68045010</td></tr></tbody></table></div>"
      ]
     },
     "metadata": {
      "application/vnd.databricks.v1+output": {
       "addedWidgets": {},
       "aggData": [],
       "aggError": "",
       "aggOverflow": false,
       "aggSchema": [],
       "aggSeriesLimitReached": false,
       "aggType": "",
       "arguments": {},
       "columnCustomDisplayInfos": {},
       "data": [
        [
         "Instagram",
         266241989
        ],
        [
         "WhatsApp Messenger",
         207348304
        ],
        [
         "Clash of Clans",
         179558781
        ],
        [
         "Messenger – Text and Video Chat for Free",
         169932272
        ],
        [
         "Subway Surfers",
         166331958
        ],
        [
         "Candy Crush Saga",
         156993136
        ],
        [
         "Facebook",
         156286514
        ],
        [
         "8 Ball Pool",
         99386198
        ],
        [
         "Clash Royale",
         92530298
        ],
        [
         "Snapchat",
         68045010
        ]
       ],
       "datasetInfos": [],
       "dbfsResultPath": null,
       "isJsonSchema": true,
       "metadata": {},
       "overflow": false,
       "plotOptions": {
        "customPlotOptions": {},
        "displayType": "table",
        "pivotAggregation": null,
        "pivotColumns": null,
        "xColumns": null,
        "yColumns": null
       },
       "removedWidgets": [],
       "schema": [
        {
         "metadata": "{}",
         "name": "App",
         "type": "\"string\""
        },
        {
         "metadata": "{}",
         "name": "Reviews",
         "type": "\"long\""
        }
       ],
       "type": "table"
      }
     },
     "output_type": "display_data"
    }
   ],
   "source": [
    "%sql\n",
    "select App,sum(Reviews) as Reviews from apps \n",
    "group by App\n",
    "order by Reviews desc\n",
    "limit 10"
   ]
  },
  {
   "cell_type": "code",
   "execution_count": 0,
   "metadata": {
    "application/vnd.databricks.v1+cell": {
     "cellMetadata": {
      "byteLimit": 2048000,
      "implicitDf": true,
      "rowLimit": 10000
     },
     "inputWidgets": {},
     "nuid": "d7e9d0a9-eb2b-4721-a2b5-fea50460026d",
     "showTitle": true,
     "title": "Top 10 installed apps and distribution of types"
    }
   },
   "outputs": [
    {
     "output_type": "display_data",
     "data": {
      "text/html": [
       "<style scoped>\n",
       "  .table-result-container {\n",
       "    max-height: 300px;\n",
       "    overflow: auto;\n",
       "  }\n",
       "  table, th, td {\n",
       "    border: 1px solid black;\n",
       "    border-collapse: collapse;\n",
       "  }\n",
       "  th, td {\n",
       "    padding: 5px;\n",
       "  }\n",
       "  th {\n",
       "    text-align: left;\n",
       "  }\n",
       "</style><div class='table-result-container'><table class='table-result'><thead style='background-color: white'><tr><th>App</th><th>Type</th><th>Installs</th></tr></thead><tbody><tr><td>Gmail</td><td>Free</td><td>3000000000</td></tr><tr><td>Candy Crush Saga</td><td>Free</td><td>3500000000</td></tr><tr><td>Subway Surfers</td><td>Free</td><td>6000000000</td></tr><tr><td>Instagram</td><td>Free</td><td>4000000000</td></tr><tr><td>Google Drive</td><td>Free</td><td>4000000000</td></tr><tr><td>Hangouts</td><td>Free</td><td>4000000000</td></tr><tr><td>Google News</td><td>Free</td><td>4000000000</td></tr><tr><td>Temple Run 2</td><td>Free</td><td>3000000000</td></tr><tr><td>WhatsApp Messenger</td><td>Free</td><td>3000000000</td></tr><tr><td>Google Photos</td><td>Free</td><td>4000000000</td></tr><tr><td>HD Widgets</td><td>Paid</td><td>2000000</td></tr><tr><td>Hitman Sniper</td><td>Paid</td><td>10000000</td></tr><tr><td>Bloons TD 5</td><td>Paid</td><td>1000000</td></tr><tr><td>Beautiful Widgets Pro</td><td>Paid</td><td>2000000</td></tr><tr><td>Tasker</td><td>Paid</td><td>1000000</td></tr><tr><td>Toca Life: City</td><td>Paid</td><td>1000000</td></tr><tr><td>True Skate</td><td>Paid</td><td>1000000</td></tr><tr><td>Facetune - For Free</td><td>Paid</td><td>3000000</td></tr><tr><td>Minecraft</td><td>Paid</td><td>20000000</td></tr><tr><td>Card Wars - Adventure Time</td><td>Paid</td><td>1000000</td></tr></tbody></table></div>"
      ]
     },
     "metadata": {
      "application/vnd.databricks.v1+output": {
       "addedWidgets": {},
       "aggData": [],
       "aggError": "",
       "aggOverflow": false,
       "aggSchema": [],
       "aggSeriesLimitReached": false,
       "aggType": "",
       "arguments": {},
       "columnCustomDisplayInfos": {},
       "data": [
        [
         "Gmail",
         "Free",
         3000000000
        ],
        [
         "Candy Crush Saga",
         "Free",
         3500000000
        ],
        [
         "Subway Surfers",
         "Free",
         6000000000
        ],
        [
         "Instagram",
         "Free",
         4000000000
        ],
        [
         "Google Drive",
         "Free",
         4000000000
        ],
        [
         "Hangouts",
         "Free",
         4000000000
        ],
        [
         "Google News",
         "Free",
         4000000000
        ],
        [
         "Temple Run 2",
         "Free",
         3000000000
        ],
        [
         "WhatsApp Messenger",
         "Free",
         3000000000
        ],
        [
         "Google Photos",
         "Free",
         4000000000
        ],
        [
         "HD Widgets",
         "Paid",
         2000000
        ],
        [
         "Hitman Sniper",
         "Paid",
         10000000
        ],
        [
         "Bloons TD 5",
         "Paid",
         1000000
        ],
        [
         "Beautiful Widgets Pro",
         "Paid",
         2000000
        ],
        [
         "Tasker",
         "Paid",
         1000000
        ],
        [
         "Toca Life: City",
         "Paid",
         1000000
        ],
        [
         "True Skate",
         "Paid",
         1000000
        ],
        [
         "Facetune - For Free",
         "Paid",
         3000000
        ],
        [
         "Minecraft",
         "Paid",
         20000000
        ],
        [
         "Card Wars - Adventure Time",
         "Paid",
         1000000
        ]
       ],
       "datasetInfos": [],
       "dbfsResultPath": null,
       "isJsonSchema": true,
       "metadata": {},
       "overflow": false,
       "plotOptions": {
        "customPlotOptions": {},
        "displayType": "table",
        "pivotAggregation": null,
        "pivotColumns": null,
        "xColumns": null,
        "yColumns": null
       },
       "removedWidgets": [],
       "schema": [
        {
         "metadata": "{}",
         "name": "App",
         "type": "\"string\""
        },
        {
         "metadata": "{}",
         "name": "Type",
         "type": "\"string\""
        },
        {
         "metadata": "{}",
         "name": "Installs",
         "type": "\"long\""
        }
       ],
       "type": "table"
      }
     },
     "output_type": "display_data"
    }
   ],
   "source": [
    "%sql\n",
    "---select App,Type,Installs from apps\n",
    "\n",
    "(select App,Type,sum(Installs) as Installs from apps\n",
    "where Type = 'Free'\n",
    "group by  App,Type\n",
    "order by Installs desc\n",
    "limit 10)\n",
    "union\n",
    "(select App,Type,sum(Installs) as Installs from apps\n",
    "where Type = 'Paid'\n",
    "group by  App,Type\n",
    "order by Installs desc\n",
    "limit 10)"
   ]
  },
  {
   "cell_type": "code",
   "execution_count": 0,
   "metadata": {
    "application/vnd.databricks.v1+cell": {
     "cellMetadata": {
      "byteLimit": 2048000,
      "rowLimit": 10000
     },
     "inputWidgets": {},
     "nuid": "32070789-c4af-48e9-ab22-6f3c3f9e7d5b",
     "showTitle": true,
     "title": "Category wise distribution of installed apps"
    }
   },
   "outputs": [
    {
     "output_type": "stream",
     "name": "stdout",
     "output_type": "stream",
     "text": [
      "+----------+\n|  Installs|\n+----------+\n|    500000|\n|    100000|\n|      null|\n|         1|\n|      5000|\n|       500|\n|     10000|\n|         5|\n|     50000|\n|   5000000|\n|  50000000|\n|       100|\n|      1000|\n|   1000000|\n|        10|\n|        50|\n| 500000000|\n|1000000000|\n|  10000000|\n|         0|\n+----------+\nonly showing top 20 rows\n\n"
     ]
    }
   ],
   "source": [
    "#fetch unique elements from column\n",
    "df1 = df.select(col(\"Installs\")).distinct()\n",
    "df1.show()\n",
    "\n"
   ]
  },
  {
   "cell_type": "code",
   "execution_count": 0,
   "metadata": {
    "application/vnd.databricks.v1+cell": {
     "cellMetadata": {
      "byteLimit": 2048000,
      "implicitDf": true,
      "rowLimit": 10000
     },
     "inputWidgets": {},
     "nuid": "49028456-6af6-4292-b382-ee59022de4de",
     "showTitle": true,
     "title": "Category wise distribution of installed apps"
    }
   },
   "outputs": [
    {
     "output_type": "display_data",
     "data": {
      "text/html": [
       "<style scoped>\n",
       "  .table-result-container {\n",
       "    max-height: 300px;\n",
       "    overflow: auto;\n",
       "  }\n",
       "  table, th, td {\n",
       "    border: 1px solid black;\n",
       "    border-collapse: collapse;\n",
       "  }\n",
       "  th, td {\n",
       "    padding: 5px;\n",
       "  }\n",
       "  th {\n",
       "    text-align: left;\n",
       "  }\n",
       "</style><div class='table-result-container'><table class='table-result'><thead style='background-color: white'><tr><th>Category</th><th>Installs</th></tr></thead><tbody><tr><td>GAME</td><td>35086024415</td></tr><tr><td>COMMUNICATION</td><td>32647276251</td></tr><tr><td>PRODUCTIVITY</td><td>14176091369</td></tr><tr><td>SOCIAL</td><td>14069867902</td></tr><tr><td>TOOLS</td><td>11452771915</td></tr><tr><td>FAMILY</td><td>10258263505</td></tr><tr><td>PHOTOGRAPHY</td><td>10088247655</td></tr><tr><td>NEWS_AND_MAGAZINES</td><td>7496317760</td></tr><tr><td>TRAVEL_AND_LOCAL</td><td>6868887146</td></tr><tr><td>VIDEO_PLAYERS</td><td>6222002720</td></tr><tr><td>SHOPPING</td><td>3247848785</td></tr><tr><td>ENTERTAINMENT</td><td>2869160000</td></tr><tr><td>PERSONALIZATION</td><td>2325494782</td></tr><tr><td>BOOKS_AND_REFERENCE</td><td>1921469576</td></tr><tr><td>SPORTS</td><td>1751174498</td></tr><tr><td>HEALTH_AND_FITNESS</td><td>1583072512</td></tr><tr><td>BUSINESS</td><td>1001914865</td></tr><tr><td>FINANCE</td><td>876648734</td></tr><tr><td>EDUCATION</td><td>871452000</td></tr><tr><td>MAPS_AND_NAVIGATION</td><td>724281890</td></tr><tr><td>LIFESTYLE</td><td>537643539</td></tr><tr><td>WEATHER</td><td>426100520</td></tr><tr><td>FOOD_AND_DRINK</td><td>273898751</td></tr><tr><td>DATING</td><td>264310807</td></tr><tr><td>HOUSE_AND_HOME</td><td>168712461</td></tr><tr><td>ART_AND_DESIGN</td><td>124338100</td></tr><tr><td>LIBRARIES_AND_DEMO</td><td>62995910</td></tr><tr><td>COMICS</td><td>56086150</td></tr><tr><td>MEDICAL</td><td>53257437</td></tr><tr><td>AUTO_AND_VEHICLES</td><td>53130211</td></tr><tr><td>PARENTING</td><td>31521110</td></tr><tr><td>BEAUTY</td><td>27197050</td></tr><tr><td>EVENTS</td><td>15973161</td></tr><tr><td>1.9</td><td>null</td></tr></tbody></table></div>"
      ]
     },
     "metadata": {
      "application/vnd.databricks.v1+output": {
       "addedWidgets": {},
       "aggData": [],
       "aggError": "",
       "aggOverflow": false,
       "aggSchema": [],
       "aggSeriesLimitReached": false,
       "aggType": "",
       "arguments": {},
       "columnCustomDisplayInfos": {},
       "data": [
        [
         "GAME",
         35086024415
        ],
        [
         "COMMUNICATION",
         32647276251
        ],
        [
         "PRODUCTIVITY",
         14176091369
        ],
        [
         "SOCIAL",
         14069867902
        ],
        [
         "TOOLS",
         11452771915
        ],
        [
         "FAMILY",
         10258263505
        ],
        [
         "PHOTOGRAPHY",
         10088247655
        ],
        [
         "NEWS_AND_MAGAZINES",
         7496317760
        ],
        [
         "TRAVEL_AND_LOCAL",
         6868887146
        ],
        [
         "VIDEO_PLAYERS",
         6222002720
        ],
        [
         "SHOPPING",
         3247848785
        ],
        [
         "ENTERTAINMENT",
         2869160000
        ],
        [
         "PERSONALIZATION",
         2325494782
        ],
        [
         "BOOKS_AND_REFERENCE",
         1921469576
        ],
        [
         "SPORTS",
         1751174498
        ],
        [
         "HEALTH_AND_FITNESS",
         1583072512
        ],
        [
         "BUSINESS",
         1001914865
        ],
        [
         "FINANCE",
         876648734
        ],
        [
         "EDUCATION",
         871452000
        ],
        [
         "MAPS_AND_NAVIGATION",
         724281890
        ],
        [
         "LIFESTYLE",
         537643539
        ],
        [
         "WEATHER",
         426100520
        ],
        [
         "FOOD_AND_DRINK",
         273898751
        ],
        [
         "DATING",
         264310807
        ],
        [
         "HOUSE_AND_HOME",
         168712461
        ],
        [
         "ART_AND_DESIGN",
         124338100
        ],
        [
         "LIBRARIES_AND_DEMO",
         62995910
        ],
        [
         "COMICS",
         56086150
        ],
        [
         "MEDICAL",
         53257437
        ],
        [
         "AUTO_AND_VEHICLES",
         53130211
        ],
        [
         "PARENTING",
         31521110
        ],
        [
         "BEAUTY",
         27197050
        ],
        [
         "EVENTS",
         15973161
        ],
        [
         "1.9",
         null
        ]
       ],
       "datasetInfos": [],
       "dbfsResultPath": null,
       "isJsonSchema": true,
       "metadata": {},
       "overflow": false,
       "plotOptions": {
        "customPlotOptions": {},
        "displayType": "table",
        "pivotAggregation": null,
        "pivotColumns": null,
        "xColumns": null,
        "yColumns": null
       },
       "removedWidgets": [],
       "schema": [
        {
         "metadata": "{}",
         "name": "Category",
         "type": "\"string\""
        },
        {
         "metadata": "{}",
         "name": "Installs",
         "type": "\"long\""
        }
       ],
       "type": "table"
      }
     },
     "output_type": "display_data"
    }
   ],
   "source": [
    "%sql\n",
    "select Category,sum(Installs) as Installs\n",
    "from apps\n",
    "group by Category\n",
    "order by Installs desc"
   ]
  },
  {
   "cell_type": "code",
   "execution_count": 0,
   "metadata": {
    "application/vnd.databricks.v1+cell": {
     "cellMetadata": {
      "byteLimit": 2048000,
      "rowLimit": 10000
     },
     "inputWidgets": {},
     "nuid": "a1912e9d-8f46-4cae-9668-8f3eaf460a1d",
     "showTitle": false,
     "title": ""
    }
   },
   "outputs": [
    {
     "output_type": "stream",
     "name": "stdout",
     "output_type": "stream",
     "text": [
      "+------+\n|Rating|\n+------+\n|   0.0|\n|   3.5|\n|   3.7|\n|   4.5|\n|   3.4|\n|   4.9|\n|   3.1|\n|   4.1|\n|   4.0|\n|   3.9|\n|   3.8|\n|   4.2|\n|   4.3|\n|   4.7|\n|   3.2|\n|   4.4|\n|   4.8|\n|   4.6|\n|   3.6|\n|   5.0|\n+------+\nonly showing top 20 rows\n\n"
     ]
    }
   ],
   "source": [
    "df1 = df.select(col(\"Rating\")).distinct()\n",
    "df1.show()"
   ]
  },
  {
   "cell_type": "code",
   "execution_count": 0,
   "metadata": {
    "application/vnd.databricks.v1+cell": {
     "cellMetadata": {
      "byteLimit": 2048000,
      "implicitDf": true,
      "rowLimit": 10000
     },
     "inputWidgets": {},
     "nuid": "e082ce60-57bd-478c-801a-a4261c121e4e",
     "showTitle": true,
     "title": "Top Paid apps"
    }
   },
   "outputs": [
    {
     "output_type": "display_data",
     "data": {
      "text/html": [
       "<style scoped>\n",
       "  .table-result-container {\n",
       "    max-height: 300px;\n",
       "    overflow: auto;\n",
       "  }\n",
       "  table, th, td {\n",
       "    border: 1px solid black;\n",
       "    border-collapse: collapse;\n",
       "  }\n",
       "  th, td {\n",
       "    padding: 5px;\n",
       "  }\n",
       "  th {\n",
       "    text-align: left;\n",
       "  }\n",
       "</style><div class='table-result-container'><table class='table-result'><thead style='background-color: white'><tr><th>App</th><th>Price</th></tr></thead><tbody><tr><td>I'm Rich - Trump Edition</td><td>400</td></tr><tr><td>most expensive app (H)</td><td>399</td></tr><tr><td>I am rich(premium)</td><td>399</td></tr><tr><td>I Am Rich Premium</td><td>399</td></tr><tr><td>I am Rich Plus</td><td>399</td></tr><tr><td>I'm Rich/Eu sou Rico/أنا غني/我很有錢</td><td>399</td></tr><tr><td>I Am Rich Pro</td><td>399</td></tr><tr><td>I AM RICH PRO PLUS</td><td>399</td></tr><tr><td>I am Rich</td><td>399</td></tr><tr><td>I am Rich!</td><td>399</td></tr></tbody></table></div>"
      ]
     },
     "metadata": {
      "application/vnd.databricks.v1+output": {
       "addedWidgets": {},
       "aggData": [],
       "aggError": "",
       "aggOverflow": false,
       "aggSchema": [],
       "aggSeriesLimitReached": false,
       "aggType": "",
       "arguments": {},
       "columnCustomDisplayInfos": {},
       "data": [
        [
         "I'm Rich - Trump Edition",
         400
        ],
        [
         "most expensive app (H)",
         399
        ],
        [
         "I am rich(premium)",
         399
        ],
        [
         "I Am Rich Premium",
         399
        ],
        [
         "I am Rich Plus",
         399
        ],
        [
         "I'm Rich/Eu sou Rico/أنا غني/我很有錢",
         399
        ],
        [
         "I Am Rich Pro",
         399
        ],
        [
         "I AM RICH PRO PLUS",
         399
        ],
        [
         "I am Rich",
         399
        ],
        [
         "I am Rich!",
         399
        ]
       ],
       "datasetInfos": [],
       "dbfsResultPath": null,
       "isJsonSchema": true,
       "metadata": {},
       "overflow": false,
       "plotOptions": {
        "customPlotOptions": {},
        "displayType": "table",
        "pivotAggregation": null,
        "pivotColumns": null,
        "xColumns": null,
        "yColumns": null
       },
       "removedWidgets": [],
       "schema": [
        {
         "metadata": "{}",
         "name": "App",
         "type": "\"string\""
        },
        {
         "metadata": "{}",
         "name": "Price",
         "type": "\"long\""
        }
       ],
       "type": "table"
      }
     },
     "output_type": "display_data"
    }
   ],
   "source": [
    "%sql\n",
    "select App,sum(Price) as Price  \n",
    "from apps\n",
    "where Type ='Paid'\n",
    "group by App\n",
    "order by Price desc\n",
    "limit 10 "
   ]
  },
  {
   "cell_type": "code",
   "execution_count": 0,
   "metadata": {
    "application/vnd.databricks.v1+cell": {
     "cellMetadata": {
      "byteLimit": 2048000,
      "implicitDf": true,
      "rowLimit": 10000
     },
     "inputWidgets": {},
     "nuid": "e8c37d84-0869-4303-b3bf-2e507b974881",
     "showTitle": true,
     "title": "Top paid rating apps"
    }
   },
   "outputs": [
    {
     "output_type": "display_data",
     "data": {
      "text/html": [
       "<style scoped>\n",
       "  .table-result-container {\n",
       "    max-height: 300px;\n",
       "    overflow: auto;\n",
       "  }\n",
       "  table, th, td {\n",
       "    border: 1px solid black;\n",
       "    border-collapse: collapse;\n",
       "  }\n",
       "  th, td {\n",
       "    padding: 5px;\n",
       "  }\n",
       "  th {\n",
       "    text-align: left;\n",
       "  }\n",
       "</style><div class='table-result-container'><table class='table-result'><thead style='background-color: white'><tr><th>App</th><th>Price</th><th>Rating</th></tr></thead><tbody><tr><td>30WPM Amateur ham radio Koch CW Morse code trainer</td><td>1</td><td>5.0</td></tr><tr><td>USMLE Step 2 CK Flashcards</td><td>19</td><td>5.0</td></tr><tr><td>Morse Player</td><td>1</td><td>5.0</td></tr><tr><td>AP Art History Flashcards</td><td>29</td><td>5.0</td></tr><tr><td>Ra Ga Ba</td><td>1</td><td>5.0</td></tr><tr><td>FHR 5-Tier 2.0</td><td>2</td><td>5.0</td></tr><tr><td>TI-84 CE Graphing Calculator Manual TI 84</td><td>4</td><td>5.0</td></tr><tr><td>Santa's Monster Shootout DX</td><td>1</td><td>5.0</td></tr><tr><td>BC MVA Fines</td><td>1</td><td>5.0</td></tr><tr><td>ADS-B Driver</td><td>1</td><td>5.0</td></tr></tbody></table></div>"
      ]
     },
     "metadata": {
      "application/vnd.databricks.v1+output": {
       "addedWidgets": {},
       "aggData": [],
       "aggError": "",
       "aggOverflow": false,
       "aggSchema": [],
       "aggSeriesLimitReached": false,
       "aggType": "",
       "arguments": {},
       "columnCustomDisplayInfos": {},
       "data": [
        [
         "30WPM Amateur ham radio Koch CW Morse code trainer",
         1,
         "5.0"
        ],
        [
         "USMLE Step 2 CK Flashcards",
         19,
         "5.0"
        ],
        [
         "Morse Player",
         1,
         "5.0"
        ],
        [
         "AP Art History Flashcards",
         29,
         "5.0"
        ],
        [
         "Ra Ga Ba",
         1,
         "5.0"
        ],
        [
         "FHR 5-Tier 2.0",
         2,
         "5.0"
        ],
        [
         "TI-84 CE Graphing Calculator Manual TI 84",
         4,
         "5.0"
        ],
        [
         "Santa's Monster Shootout DX",
         1,
         "5.0"
        ],
        [
         "BC MVA Fines",
         1,
         "5.0"
        ],
        [
         "ADS-B Driver",
         1,
         "5.0"
        ]
       ],
       "datasetInfos": [],
       "dbfsResultPath": null,
       "isJsonSchema": true,
       "metadata": {},
       "overflow": false,
       "plotOptions": {
        "customPlotOptions": {},
        "displayType": "table",
        "pivotAggregation": null,
        "pivotColumns": null,
        "xColumns": null,
        "yColumns": null
       },
       "removedWidgets": [],
       "schema": [
        {
         "metadata": "{}",
         "name": "App",
         "type": "\"string\""
        },
        {
         "metadata": "{}",
         "name": "Price",
         "type": "\"long\""
        },
        {
         "metadata": "{}",
         "name": "Rating",
         "type": "\"decimal(10,1)\""
        }
       ],
       "type": "table"
      }
     },
     "output_type": "display_data"
    }
   ],
   "source": [
    "%sql\n",
    "\n",
    "select distinct App,sum(Price) as Price,cast(avg(Rating) as decimal(10,1))  as Rating\n",
    "from apps\n",
    "where Type ='Paid' and Price > 0\n",
    "group by App\n",
    "order by Rating desc\n",
    "limit 10"
   ]
  }
 ],
 "metadata": {
  "application/vnd.databricks.v1+notebook": {
   "dashboards": [],
   "environmentMetadata": null,
   "language": "python",
   "notebookMetadata": {
    "mostRecentlyExecutedCommandWithImplicitDF": {
     "commandId": 2442713815343731,
     "dataframes": [
      "_sqldf"
     ]
    },
    "pythonIndentUnit": 4
   },
   "notebookName": "Google Play Store Data Analysis",
   "widgets": {}
  }
 },
 "nbformat": 4,
 "nbformat_minor": 0
}
